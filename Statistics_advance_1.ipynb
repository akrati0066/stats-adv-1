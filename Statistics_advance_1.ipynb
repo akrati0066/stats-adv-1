{
  "nbformat": 4,
  "nbformat_minor": 0,
  "metadata": {
    "colab": {
      "provenance": []
    },
    "kernelspec": {
      "name": "python3",
      "display_name": "Python 3"
    },
    "language_info": {
      "name": "python"
    }
  },
  "cells": [
    {
      "cell_type": "code",
      "execution_count": 1,
      "metadata": {
        "id": "p64z9bCKdwey"
      },
      "outputs": [],
      "source": [
        "#Question 1: What is a random variable in probability theory?\n",
        "#Ans: A random variable is a function that assigns a numerical value to each possible outcome of a random experiment."
      ]
    },
    {
      "cell_type": "code",
      "source": [
        "#Question 2: What are the types of random variables?\n",
        "#Ans: The two main types of random variables are:\n",
        "#Discrete random variable : Takes a countable set of values (e.g., number of heads in coin tosses).\n",
        "#Continuous random variable : Takes values from an uncountable range, usually intervals of real numbers (e.g., height, temperature)."
      ],
      "metadata": {
        "id": "JWo2n3g5fXTm"
      },
      "execution_count": 2,
      "outputs": []
    },
    {
      "cell_type": "code",
      "source": [
        "#Question 3: Explain the difference between discrete and continuous distributions.\n",
        "#Ans: A discrete distribution describes probabilities for a countable set of outcomes, while a continuous distribution describes probabilities over an uncountable range of values, where probabilities are given for intervals, not exact points."
      ],
      "metadata": {
        "id": "MaLE-Zvsfkvf"
      },
      "execution_count": 3,
      "outputs": []
    },
    {
      "cell_type": "code",
      "source": [
        "#Question 4: What is a binomial distribution, and how is it used in probability?\n",
        "#Ans: A binomial distribution describes the probability of getting a fixed number of successes in a fixed number of independent trials, where each trial has only two outcomes (success/failure) and the same probability of success.\n",
        "#Its used to model situations like coin tosses, quality checks, or survey responses where events are binary and repeated a set number of times."
      ],
      "metadata": {
        "id": "JIOJjAxYfyKA"
      },
      "execution_count": 4,
      "outputs": []
    },
    {
      "cell_type": "code",
      "source": [
        "#Question 5: What is the standard normal distribution, and why is it important?\n",
        "#Ans: The standard normal distribution is a normal (bell-shaped) distribution with a mean of 0 and a standard deviation of 1.\n",
        "#Its important because it allows probabilities to be calculated using Z-scores, making it easy to compare and analyze different datasets on a common scale."
      ],
      "metadata": {
        "id": "yWog-qoxgB38"
      },
      "execution_count": 5,
      "outputs": []
    },
    {
      "cell_type": "code",
      "source": [
        "#Question 6: What is the Central Limit Theorem (CLT), and why is it critical in statistics?\n",
        "#Ans: The Central Limit Theorem (CLT) states that, for a large enough sample size, the sampling distribution of the sample mean will be approximately normal, regardless of the population’s original distribution, provided the samples are independent and identically distributed.\n",
        "#Its critical because it justifies using normal probability methods for inference (confidence intervals, hypothesis tests) even when the population itself isnt normally distributed."
      ],
      "metadata": {
        "id": "tBAzAr_ZgNlI"
      },
      "execution_count": 6,
      "outputs": []
    },
    {
      "cell_type": "code",
      "source": [
        "#Question 7: What is the significance of confidence intervals in statistical analysis?\n",
        "#Ans: A confidence interval gives a range of values within which a population parameter is likely to fall, with a certain level of confidence (e.g., 95%).\n",
        "#Its significance is that it quantifies the uncertainty in estimates, helping make informed decisions instead of relying on a single point estimate."
      ],
      "metadata": {
        "id": "XFQ1nwM0g3XI"
      },
      "execution_count": 7,
      "outputs": []
    },
    {
      "cell_type": "code",
      "source": [
        "#Question 8: What is the concept of expected value in a probability distribution?\n",
        "#Ans: The expected value is the long-run average outcome of a random variable, calculated as the sum of all possible values weighted by their probabilities.\n",
        "#It represents the theoretical mean of the distribution and helps predict the average result over many trials."
      ],
      "metadata": {
        "id": "ewv0Cq-ZhBUi"
      },
      "execution_count": 8,
      "outputs": []
    },
    {
      "cell_type": "code",
      "source": [
        "#Question 9: Write a Python program to generate 1000 random numbers from a normal distribution with mean = 50 and standard deviation = 5. Compute its mean and standard deviation using NumPy, and draw a histogram to visualize the distribution.\n",
        "import numpy as np\n",
        "import matplotlib.pyplot as plt\n",
        "\n",
        "# Parameters\n",
        "mean = 50\n",
        "std_dev = 5\n",
        "size = 1000\n",
        "\n",
        "# Generate random numbers from normal distribution\n",
        "data = np.random.normal(mean, std_dev, size)\n",
        "\n",
        "# Compute mean and standard deviation\n",
        "calculated_mean = np.mean(data)\n",
        "calculated_std = np.std(data)\n",
        "\n",
        "print(f\"Calculated Mean: {calculated_mean:.2f}\")\n",
        "print(f\"Calculated Standard Deviation: {calculated_std:.2f}\")\n",
        "\n",
        "# Plot histogram\n",
        "plt.hist(data, bins=30, edgecolor='black', alpha=0.7)\n",
        "plt.title('Histogram of Normally Distributed Data')\n",
        "plt.xlabel('Value')\n",
        "plt.ylabel('Frequency')\n",
        "plt.show()"
      ],
      "metadata": {
        "colab": {
          "base_uri": "https://localhost:8080/",
          "height": 507
        },
        "id": "crOAeckLhIvF",
        "outputId": "0ef57a3d-7180-4412-807a-14a6ae040087"
      },
      "execution_count": 9,
      "outputs": [
        {
          "output_type": "stream",
          "name": "stdout",
          "text": [
            "Calculated Mean: 49.77\n",
            "Calculated Standard Deviation: 4.91\n"
          ]
        },
        {
          "output_type": "display_data",
          "data": {
            "text/plain": [
              "<Figure size 640x480 with 1 Axes>"
            ],
            "image/png": "[encoded data removed]"
          },
          "metadata": {}
        }
      ]
    },
    {
      "cell_type": "code",
      "source": [
        "#Question 10: You are working as a data analyst for a retail company. The company has collected daily sales data for 2 years and wants you to identify the overall sales trend.\n",
        "#daily_sales = [220, 245, 210, 265, 230, 250, 260, 275, 240, 255, 235, 260, 245, 250, 225, 270, 265, 255, 250, 260]\n",
        "#● Explain how you would apply the Central Limit Theorem to estimate the average sales with a 95% confidence interval.\n",
        "#● Write the Python code to compute the mean sales and its confidence interval.\n",
        "import numpy as np\n",
        "from scipy import stats\n",
        "\n",
        "# Daily sales data\n",
        "daily_sales = [220, 245, 210, 265, 230, 250, 260, 275, 240, 255,\n",
        "               235, 260, 245, 250, 225, 270, 265, 255, 250, 260]\n",
        "\n",
        "# Convert to numpy array\n",
        "sales = np.array(daily_sales)\n",
        "\n",
        "# Calculate mean and standard error\n",
        "mean_sales = np.mean(sales)\n",
        "std_error = stats.sem(sales)  # Standard Error of the Mean\n",
        "\n",
        "# 95% confidence interval using t-distribution\n",
        "confidence = 0.95\n",
        "ci = stats.t.interval(confidence, len(sales)-1, loc=mean_sales, scale=std_error)\n",
        "\n",
        "print(f\"Mean Sales: {mean_sales:.2f}\")\n",
        "print(f\"95% Confidence Interval: ({ci[0]:.2f}, {ci[1]:.2f})\")z"
      ],
      "metadata": {
        "colab": {
          "base_uri": "https://localhost:8080/"
        },
        "id": "FLF3TfFyhmLO",
        "outputId": "23c491da-d88f-485b-f109-c3a099b70884"
      },
      "execution_count": 10,
      "outputs": [
        {
          "output_type": "stream",
          "name": "stdout",
          "text": [
            "Mean Sales: 248.25\n",
            "95% Confidence Interval: (240.17, 256.33)\n"
          ]
        }
      ]
    }
  ]
}